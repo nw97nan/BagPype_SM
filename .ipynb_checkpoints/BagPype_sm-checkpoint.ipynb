{
 "cells": [
  {
   "cell_type": "code",
   "execution_count": 1,
   "metadata": {},
   "outputs": [],
   "source": [
    "import create_ligand_Bagpype as create_files\n",
    "import shutil\n",
    "import importlib"
   ]
  },
  {
   "cell_type": "markdown",
   "metadata": {},
   "source": [
    "## Data Preparation"
   ]
  },
  {
   "cell_type": "code",
   "execution_count": 2,
   "metadata": {},
   "outputs": [],
   "source": [
    "smi = 'c1cccc2c1c(c1CCCCc1n2)N'"
   ]
  },
  {
   "cell_type": "markdown",
   "metadata": {},
   "source": [
    "## Graph Generation with BagPype"
   ]
  },
  {
   "cell_type": "code",
   "execution_count": 3,
   "metadata": {
    "scrolled": true
   },
   "outputs": [
    {
     "name": "stdout",
     "output_type": "stream",
     "text": [
      "\n",
      " |‾|                Welcome to              \n",
      " | |__   __ _  __ _ _ __  _   _ _ __   ___  \n",
      " | '_ \\ / _` |/ _` | '_ \\| | | | '_ \\ / _ \\ \n",
      " | |_) | (_| | (_| | |_) | |_| | |_) |  __/ \n",
      " |_.__/ \\__,_|\\__, | .__/ \\__, | .__/ \\___| \n",
      "               __/ | |     __/ | |          \n",
      "              |___/|_|    |___/|_|          \n",
      "Biochemical, Atomistic Graph construction   \n",
      "software in PYthon for Proteins, Etc.       \n",
      "(C) Yaliraki group @ Imperial College London\n",
      "\n",
      "\"Wrinkles should merely indicate where smiles have been.\"\n",
      "by Mark Twain\n",
      "\n"
     ]
    },
    {
     "name": "stderr",
     "output_type": "stream",
     "text": [
      "1 molecule converted\n",
      "1 molecule converted\n"
     ]
    }
   ],
   "source": [
    "import bagpype\n",
    "\n",
    "generate_files = create_files.Mol_Mol2_PDB_from_SMILES(smi)\n",
    "\n",
    "generate_files.gen_mol_mol2_file('./sm_test/molecule.smi',\n",
    "                                 './sm_test/molecule.mol',\n",
    "                                 './sm_test/molecule.mol2')\n",
    "\n",
    "# generate the .cif file and put it into BagPype dependencies\n",
    "generate_cif_het = create_files.Ligand_generation('./sm_test/molecule.mol', \n",
    "                                                  './sm_test/molecule.mol2')\n",
    "generate_cif_het.cif_writer('./bagpype/dependencies/mmcif/NWU.cif')\n",
    "generate_cif_het.HET_writer('./bagpype/dependencies/NWU.txt')\n",
    "\n",
    "# manipulate the Reduce HET dict by adding the .txt lines written above\n",
    "# ori_het_dict = './src/bagpype/dependencies/reduce_wwPDB_het_dict.txt'\n",
    "# sm_het_dict = './src/bagpype/dependencies/reduce_wwPDB_het_dict_sm.txt'\n",
    "# shutil.copy(ori_het_dict, sm_het_dict)\n",
    "with open('./sm_test/NWU.txt') as conect:\n",
    "    conect_lines = conect.readlines()\n",
    "with open(sm_het_dict, 'a') as het_dict:\n",
    "    het_dict.writelines(conect_lines)\n",
    "\n",
    "# create the .pdb file of the molecule for Bagpype\n",
    "generate_cif_het.pdb_writer('./sm_test/molecule.pdb')"
   ]
  },
  {
   "cell_type": "code",
   "execution_count": 4,
   "metadata": {},
   "outputs": [
    {
     "name": "stdout",
     "output_type": "stream",
     "text": [
      "\n",
      " |‾|                Welcome to              \n",
      " | |__   __ _  __ _ _ __  _   _ _ __   ___  \n",
      " | '_ \\ / _` |/ _` | '_ \\| | | | '_ \\ / _ \\ \n",
      " | |_) | (_| | (_| | |_) | |_| | |_) |  __/ \n",
      " |_.__/ \\__,_|\\__, | .__/ \\__, | .__/ \\___| \n",
      "               __/ | |     __/ | |          \n",
      "              |___/|_|    |___/|_|          \n",
      "Biochemical, Atomistic Graph construction   \n",
      "software in PYthon for Proteins, Etc.       \n",
      "(C) Yaliraki group @ Imperial College London\n",
      "\n",
      "\"I am of the opinion that my life belongs to the community, and as long as I live it is my privilege to do for it whatever I can.\"\n",
      "by Bernard Shaw\n",
      "\n",
      "Stripping unwanted atom types from the PDB file ['UNK', 'UNL', 'UNX']\n",
      "Deleting ALL H's\n",
      "Adding hydrogens to PDB file\n",
      "Finished adding hydrogens\n",
      "Loading atoms into protein object from file: ./sm_test/molecule_stripped_H.pdb\n",
      "\n",
      "Graph construction started\n",
      "Initialising all possible bonds, memory efficiently...\n",
      "Initialising covalent bond energies for NWU\n",
      "Finding covalent bonds...\n",
      "Finding hydrogen bonds at cutoff = -0.01kcal/mol...\n",
      "    Assigning H-bond status...\n",
      "    Applying constraints and computing bond strengths...\n",
      "    Total energy of hydrogen bonds and salt bridges: 0 kcal/mol\n",
      "Finding hydrophobics...\n",
      "    RMST sparsification used. Accepted: 1, rejected: 12; MST size: 9\n",
      "    Total energy of hydrophobic effect: -3.1 kcal/mol\n",
      "Finding stacked interactions in DNA...\n",
      "Finding DNA backbone interactions...\n",
      "Finished constructing the graph! #residues = 1, #atoms = 29, #bonds = 41\n",
      "    Time taken = 0.12s, final filename: ./sm_test/molecule_stripped_H.pdb\n",
      "\n"
     ]
    }
   ],
   "source": [
    "importlib.reload(bagpype)\n",
    "\n",
    "myprot = bagpype.molecules.Protein()\n",
    "parser = bagpype.parsing.PDBParser(f'./sm_test/molecule.pdb')\n",
    "\n",
    "parser.parse(myprot, strip = {'res_name': [], \n",
    "                              'chain': [], \n",
    "                              'residues': []}, \n",
    "             trim_H = True, add_H = True, MakeMultimer_number = None)\n",
    "ggenerator = bagpype.construction.Graph_constructor()\n",
    "ggenerator.construct_graph(myprot, atoms_file_name = './sm_test/atoms_test.csv', \n",
    "                           bonds_file_name = './sm_test/bonds_test.csv')"
   ]
  },
  {
   "cell_type": "code",
   "execution_count": null,
   "metadata": {},
   "outputs": [],
   "source": []
  }
 ],
 "metadata": {
  "kernelspec": {
   "display_name": "Python 3 (ipykernel)",
   "language": "python",
   "name": "python3"
  },
  "language_info": {
   "codemirror_mode": {
    "name": "ipython",
    "version": 3
   },
   "file_extension": ".py",
   "mimetype": "text/x-python",
   "name": "python",
   "nbconvert_exporter": "python",
   "pygments_lexer": "ipython3",
   "version": "3.11.5"
  }
 },
 "nbformat": 4,
 "nbformat_minor": 4
}
