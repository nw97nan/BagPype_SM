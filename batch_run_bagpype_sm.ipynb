{
 "cells": [
  {
   "cell_type": "code",
   "execution_count": 1,
   "metadata": {},
   "outputs": [],
   "source": [
    "from bagpype.run_bagpype import batch_run_bagpype\n",
    "from bagpype.helper_funcs import create_dir"
   ]
  },
  {
   "cell_type": "markdown",
   "metadata": {},
   "source": [
    "## Data Preparation"
   ]
  },
  {
   "cell_type": "code",
   "execution_count": 2,
   "metadata": {},
   "outputs": [
    {
     "name": "stderr",
     "output_type": "stream",
     "text": [
      "Warning! Replaced old data/interim/dev/alcohols/\n"
     ]
    }
   ],
   "source": [
    "mol_dir = 'data/raw/dev/alcohols/mol/'\n",
    "mol2_dir = 'data/raw/dev/alcohols/mol2/'\n",
    "output_dir = create_dir(f'data/interim/dev/alcohols/', replace=True)"
   ]
  },
  {
   "cell_type": "code",
   "execution_count": 3,
   "metadata": {},
   "outputs": [
    {
     "name": "stderr",
     "output_type": "stream",
     "text": [
      "Created data/interim/dev/alcohols/nbutanol/\n"
     ]
    },
    {
     "name": "stdout",
     "output_type": "stream",
     "text": [
      "Stripping unwanted atom types from the PDB file ['UNK', 'UNL', 'UNX']\n",
      "Deleting ALL H's\n",
      "Adding hydrogens to PDB file\n",
      "Finished adding hydrogens\n",
      "Loading atoms into protein object from file: data/interim/dev/alcohols/nbutanol/nbutanol_stripped_H.pdb\n",
      "\n",
      "Graph construction started\n",
      "Initialising all possible bonds, memory efficiently...\n"
     ]
    },
    {
     "name": "stderr",
     "output_type": "stream",
     "text": [
      "Created data/interim/dev/alcohols/isopropanol/\n",
      "Created data/interim/dev/alcohols/ethanol/\n"
     ]
    },
    {
     "name": "stdout",
     "output_type": "stream",
     "text": [
      "Initialising covalent bond energies for NWU\n",
      "Finding covalent bonds...\n",
      "Finding hydrogen bonds at cutoff = -0.01kcal/mol...\n",
      "    Assigning H-bond status...\n",
      "    Applying constraints and computing bond strengths...\n",
      "    Total energy of hydrogen bonds and salt bridges: 0 kcal/mol\n",
      "Finding hydrophobics...\n",
      "Finding stacked interactions in DNA...\n",
      "Finding DNA backbone interactions...\n",
      "Finished constructing the graph! #residues = 1, #atoms = 15, #bonds = 14\n",
      "    Time taken = 1.44s, final filename: data/interim/dev/alcohols/nbutanol/nbutanol_stripped_H.pdb\n",
      "\n",
      "Stripping unwanted atom types from the PDB file ['UNK', 'UNL', 'UNX', 'UNK', 'UNL', 'UNX']\n",
      "Deleting ALL H's\n",
      "Adding hydrogens to PDB file\n",
      "Finished adding hydrogens\n",
      "Loading atoms into protein object from file: data/interim/dev/alcohols/isopropanol/isopropanol_stripped_H.pdb\n",
      "\n",
      "Graph construction started\n",
      "Initialising all possible bonds, memory efficiently...\n",
      "Initialising covalent bond energies for NWU\n",
      "Finding covalent bonds...\n",
      "Finding hydrogen bonds at cutoff = -0.01kcal/mol...\n",
      "    Assigning H-bond status...\n",
      "    Applying constraints and computing bond strengths...\n",
      "    Total energy of hydrogen bonds and salt bridges: 0 kcal/mol\n",
      "Finding hydrophobics...\n",
      "Finding stacked interactions in DNA...\n",
      "Finding DNA backbone interactions...\n",
      "Finished constructing the graph! #residues = 1, #atoms = 12, #bonds = 11\n",
      "    Time taken = 0.01s, final filename: data/interim/dev/alcohols/isopropanol/isopropanol_stripped_H.pdb\n",
      "\n",
      "Stripping unwanted atom types from the PDB file ['UNK', 'UNL', 'UNX', 'UNK', 'UNL', 'UNX', 'UNK', 'UNL', 'UNX']\n",
      "Deleting ALL H's\n",
      "Adding hydrogens to PDB file\n"
     ]
    },
    {
     "name": "stderr",
     "output_type": "stream",
     "text": [
      "Created data/interim/dev/alcohols/secbutanol/\n",
      "Created data/interim/dev/alcohols/methanol/\n"
     ]
    },
    {
     "name": "stdout",
     "output_type": "stream",
     "text": [
      "Finished adding hydrogens\n",
      "Loading atoms into protein object from file: data/interim/dev/alcohols/ethanol/ethanol_stripped_H.pdb\n",
      "\n",
      "Graph construction started\n",
      "Initialising all possible bonds, memory efficiently...\n",
      "Initialising covalent bond energies for NWU\n",
      "Finding covalent bonds...\n",
      "Finding hydrogen bonds at cutoff = -0.01kcal/mol...\n",
      "    Assigning H-bond status...\n",
      "    Applying constraints and computing bond strengths...\n",
      "    Total energy of hydrogen bonds and salt bridges: 0 kcal/mol\n",
      "Finding hydrophobics...\n",
      "Finding stacked interactions in DNA...\n",
      "Finding DNA backbone interactions...\n",
      "Finished constructing the graph! #residues = 1, #atoms = 9, #bonds = 8\n",
      "    Time taken = 0.01s, final filename: data/interim/dev/alcohols/ethanol/ethanol_stripped_H.pdb\n",
      "\n",
      "Stripping unwanted atom types from the PDB file ['UNK', 'UNL', 'UNX', 'UNK', 'UNL', 'UNX', 'UNK', 'UNL', 'UNX', 'UNK', 'UNL', 'UNX']\n",
      "Deleting ALL H's\n",
      "Adding hydrogens to PDB file\n",
      "Finished adding hydrogens\n",
      "Loading atoms into protein object from file: data/interim/dev/alcohols/secbutanol/secbutanol_stripped_H.pdb\n",
      "\n",
      "Graph construction started\n",
      "Initialising all possible bonds, memory efficiently...\n",
      "Initialising covalent bond energies for NWU\n",
      "Finding covalent bonds...\n",
      "Finding hydrogen bonds at cutoff = -0.01kcal/mol...\n",
      "    Assigning H-bond status...\n",
      "    Applying constraints and computing bond strengths...\n",
      "    Total energy of hydrogen bonds and salt bridges: 0 kcal/mol\n",
      "Finding hydrophobics...\n",
      "Finding stacked interactions in DNA...\n",
      "Finding DNA backbone interactions...\n",
      "Finished constructing the graph! #residues = 1, #atoms = 15, #bonds = 14\n",
      "    Time taken = 0.02s, final filename: data/interim/dev/alcohols/secbutanol/secbutanol_stripped_H.pdb\n",
      "\n",
      "Stripping unwanted atom types from the PDB file ['UNK', 'UNL', 'UNX', 'UNK', 'UNL', 'UNX', 'UNK', 'UNL', 'UNX', 'UNK', 'UNL', 'UNX', 'UNK', 'UNL', 'UNX']\n",
      "Deleting ALL H's\n",
      "Adding hydrogens to PDB file\n"
     ]
    },
    {
     "name": "stderr",
     "output_type": "stream",
     "text": [
      "Created data/interim/dev/alcohols/tertbutanol/\n",
      "Created data/interim/dev/alcohols/npropanol/\n"
     ]
    },
    {
     "name": "stdout",
     "output_type": "stream",
     "text": [
      "Finished adding hydrogens\n",
      "Loading atoms into protein object from file: data/interim/dev/alcohols/methanol/methanol_stripped_H.pdb\n",
      "\n",
      "Graph construction started\n",
      "Initialising all possible bonds, memory efficiently...\n",
      "Initialising covalent bond energies for NWU\n",
      "Finding covalent bonds...\n",
      "Finding hydrogen bonds at cutoff = -0.01kcal/mol...\n",
      "    Assigning H-bond status...\n",
      "    Applying constraints and computing bond strengths...\n",
      "    Total energy of hydrogen bonds and salt bridges: 0 kcal/mol\n",
      "Finding hydrophobics...\n",
      "Finding stacked interactions in DNA...\n",
      "Finding DNA backbone interactions...\n",
      "Finished constructing the graph! #residues = 1, #atoms = 2, #bonds = 1\n",
      "    Time taken = 0.01s, final filename: data/interim/dev/alcohols/methanol/methanol_stripped_H.pdb\n",
      "\n",
      "Stripping unwanted atom types from the PDB file ['UNK', 'UNL', 'UNX', 'UNK', 'UNL', 'UNX', 'UNK', 'UNL', 'UNX', 'UNK', 'UNL', 'UNX', 'UNK', 'UNL', 'UNX', 'UNK', 'UNL', 'UNX']\n",
      "Deleting ALL H's\n",
      "Adding hydrogens to PDB file\n",
      "Finished adding hydrogens\n",
      "Loading atoms into protein object from file: data/interim/dev/alcohols/tertbutanol/tertbutanol_stripped_H.pdb\n",
      "\n",
      "Graph construction started\n",
      "Initialising all possible bonds, memory efficiently...\n",
      "Initialising covalent bond energies for NWU\n",
      "Finding covalent bonds...\n",
      "Finding hydrogen bonds at cutoff = -0.01kcal/mol...\n",
      "    Assigning H-bond status...\n",
      "    Applying constraints and computing bond strengths...\n",
      "    Total energy of hydrogen bonds and salt bridges: 0 kcal/mol\n",
      "Finding hydrophobics...\n",
      "Finding stacked interactions in DNA...\n",
      "Finding DNA backbone interactions...\n",
      "Finished constructing the graph! #residues = 1, #atoms = 15, #bonds = 14\n",
      "    Time taken = 0.02s, final filename: data/interim/dev/alcohols/tertbutanol/tertbutanol_stripped_H.pdb\n",
      "\n",
      "Stripping unwanted atom types from the PDB file ['UNK', 'UNL', 'UNX', 'UNK', 'UNL', 'UNX', 'UNK', 'UNL', 'UNX', 'UNK', 'UNL', 'UNX', 'UNK', 'UNL', 'UNX', 'UNK', 'UNL', 'UNX', 'UNK', 'UNL', 'UNX']\n",
      "Deleting ALL H's\n",
      "Adding hydrogens to PDB file\n",
      "Finished adding hydrogens\n",
      "Loading atoms into protein object from file: data/interim/dev/alcohols/npropanol/npropanol_stripped_H.pdb\n",
      "\n",
      "Graph construction started\n",
      "Initialising all possible bonds, memory efficiently...\n",
      "Initialising covalent bond energies for NWU\n",
      "Finding covalent bonds...\n",
      "Finding hydrogen bonds at cutoff = -0.01kcal/mol...\n",
      "    Assigning H-bond status...\n",
      "    Applying constraints and computing bond strengths...\n",
      "    Total energy of hydrogen bonds and salt bridges: 0 kcal/mol\n",
      "Finding hydrophobics...\n",
      "Finding stacked interactions in DNA...\n",
      "Finding DNA backbone interactions...\n",
      "Finished constructing the graph! #residues = 1, #atoms = 12, #bonds = 11\n",
      "    Time taken = 0.01s, final filename: data/interim/dev/alcohols/npropanol/npropanol_stripped_H.pdb\n",
      "\n"
     ]
    }
   ],
   "source": [
    "batch_run_bagpype(\n",
    "    mol_dir=mol_dir,\n",
    "    mol2_dir=mol2_dir,\n",
    "    output_dir=output_dir,\n",
    ")"
   ]
  }
 ],
 "metadata": {
  "kernelspec": {
   "display_name": "Python 3 (ipykernel)",
   "language": "python",
   "name": "python3"
  },
  "language_info": {
   "codemirror_mode": {
    "name": "ipython",
    "version": 3
   },
   "file_extension": ".py",
   "mimetype": "text/x-python",
   "name": "python",
   "nbconvert_exporter": "python",
   "pygments_lexer": "ipython3",
   "version": "3.9.18"
  }
 },
 "nbformat": 4,
 "nbformat_minor": 4
}
