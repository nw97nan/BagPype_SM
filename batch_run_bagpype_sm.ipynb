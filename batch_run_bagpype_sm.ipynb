{
 "cells": [
  {
   "cell_type": "code",
   "execution_count": 1,
   "metadata": {},
   "outputs": [],
   "source": [
    "from bagpype.run_bagpype import RunBagPype\n",
    "from bagpype.helper_funcs import create_dir"
   ]
  },
  {
   "cell_type": "markdown",
   "metadata": {},
   "source": [
    "## Single MOL and MOL2 file"
   ]
  },
  {
   "cell_type": "code",
   "execution_count": 2,
   "metadata": {},
   "outputs": [
    {
     "name": "stderr",
     "output_type": "stream",
     "text": [
      "Working on ethanol: 100%|██████████| 1/1 [00:00<00:00,  1.93it/s]\n"
     ]
    }
   ],
   "source": [
    "ethanol_mol = 'data/raw/dev/alcohols/mol/ethanol.mol'\n",
    "ethanol_mol2 = 'data/raw/dev/alcohols/mol2/ethanol.mol2'\n",
    "output_dir = create_dir(f'data/interim/dev/ethanol/', replace=True)\n",
    "\n",
    "ethanol = RunBagPype(\n",
    "    output_dir=output_dir,\n",
    ")\n",
    "\n",
    "ethanol.init_from_mol_file(\n",
    "    mol_file=ethanol_mol,\n",
    "    mol2_file=ethanol_mol2,\n",
    ")\n",
    "\n",
    "ethanol.create_bagpype_pdb()"
   ]
  },
  {
   "cell_type": "markdown",
   "metadata": {},
   "source": [
    "## Directory of MOL and MOL2 files"
   ]
  },
  {
   "cell_type": "code",
   "execution_count": 3,
   "metadata": {},
   "outputs": [
    {
     "name": "stderr",
     "output_type": "stream",
     "text": [
      "Working on npropanol: 100%|██████████| 7/7 [00:00<00:00,  8.32it/s]  \n"
     ]
    }
   ],
   "source": [
    "mol_dir = 'data/raw/dev/alcohols/mol/'\n",
    "mol2_dir = 'data/raw/dev/alcohols/mol2/'\n",
    "output_dir = create_dir(f'data/interim/dev/alcohols/', replace=True)\n",
    "\n",
    "alcohols = RunBagPype(\n",
    "    output_dir=output_dir,\n",
    ")\n",
    "\n",
    "alcohols.init_from_mol_dir(\n",
    "    mol_dir=mol_dir,\n",
    "    mol2_dir=mol2_dir,\n",
    ")\n",
    "\n",
    "alcohols.create_bagpype_pdb()"
   ]
  }
 ],
 "metadata": {
  "kernelspec": {
   "display_name": "Python 3 (ipykernel)",
   "language": "python",
   "name": "python3"
  },
  "language_info": {
   "codemirror_mode": {
    "name": "ipython",
    "version": 3
   },
   "file_extension": ".py",
   "mimetype": "text/x-python",
   "name": "python",
   "nbconvert_exporter": "python",
   "pygments_lexer": "ipython3",
   "version": "3.9.18"
  }
 },
 "nbformat": 4,
 "nbformat_minor": 4
}
