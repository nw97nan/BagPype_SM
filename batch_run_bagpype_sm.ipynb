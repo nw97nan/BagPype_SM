{
 "cells": [
  {
   "cell_type": "code",
   "execution_count": 1,
   "metadata": {},
   "outputs": [],
   "source": [
    "from bagpype.run_bagpype import batch_run_bagpype\n",
    "from bagpype.helper_funcs import create_dir"
   ]
  },
  {
   "cell_type": "markdown",
   "metadata": {},
   "source": [
    "## Data Preparation"
   ]
  },
  {
   "cell_type": "code",
   "execution_count": 2,
   "metadata": {},
   "outputs": [],
   "source": [
    "mol_dir = 'data/raw/dev/alcohols/mol/'\n",
    "mol2_dir = 'data/raw/dev/alcohols/mol2/'\n",
    "output_dir = create_dir(f'data/interim/dev/alcohols/', replace=True)"
   ]
  },
  {
   "cell_type": "code",
   "execution_count": 3,
   "metadata": {},
   "outputs": [
    {
     "name": "stderr",
     "output_type": "stream",
     "text": [
      "Working on npropanol: 100%|██████████| 7/7 [00:01<00:00,  5.45it/s]  \n"
     ]
    }
   ],
   "source": [
    "batch_run_bagpype(\n",
    "    mol_dir=mol_dir,\n",
    "    mol2_dir=mol2_dir,\n",
    "    output_dir=output_dir,\n",
    ")"
   ]
  }
 ],
 "metadata": {
  "kernelspec": {
   "display_name": "Python 3 (ipykernel)",
   "language": "python",
   "name": "python3"
  },
  "language_info": {
   "codemirror_mode": {
    "name": "ipython",
    "version": 3
   },
   "file_extension": ".py",
   "mimetype": "text/x-python",
   "name": "python",
   "nbconvert_exporter": "python",
   "pygments_lexer": "ipython3",
   "version": "3.9.18"
  }
 },
 "nbformat": 4,
 "nbformat_minor": 4
}
